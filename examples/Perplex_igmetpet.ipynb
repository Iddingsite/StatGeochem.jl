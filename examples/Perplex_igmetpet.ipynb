{
 "cells": [
  {
   "cell_type": "markdown",
   "metadata": {},
   "source": [
    "# Geothermobarometry lab\n",
    "\n"
   ]
  },
  {
   "cell_type": "markdown",
   "metadata": {},
   "source": [
    "# Setup"
   ]
  },
  {
   "cell_type": "code",
   "execution_count": 1,
   "metadata": {},
   "outputs": [
    {
     "name": "stderr",
     "output_type": "stream",
     "text": [
      "┌ Info: Recompiling stale cache file /Users/gailin/.julia/compiled/v1.2/StatGeochem/Ht7Cf.ji for StatGeochem [df4de05a-b714-11e8-3c2a-c30fb13e804c]\n",
      "└ @ Base loading.jl:1240\n",
      "┌ Warning: Package SpecialFunctions does not have Libdl in its dependencies:\n",
      "│ - If you have SpecialFunctions checked out for development and have\n",
      "│   added Libdl as a dependency but haven't updated your primary\n",
      "│   environment's manifest file, try `Pkg.resolve()`.\n",
      "│ - Otherwise you may need to report an issue with SpecialFunctions\n",
      "└ Loading Libdl into SpecialFunctions from project dependency, future warnings for SpecialFunctions are suppressed.\n",
      "WARNING: Colors.RGB4 is deprecated, use RGBX instead.\n",
      "  likely near /Users/gailin/dartmouth/crustal_structure/StatGeochem.jl/src/StatGeochem.jl:41\n",
      "WARNING: importing deprecated binding Colors.RGB4 into StatGeochem.\n",
      "WARNING: Colors.RGB4 is deprecated, use RGBX instead.\n",
      "  likely near /Users/gailin/dartmouth/crustal_structure/StatGeochem.jl/src/resources/Elevation.jl:3\n",
      "WARNING: Colors.RGB4 is deprecated, use RGBX instead.\n",
      "  likely near /Users/gailin/dartmouth/crustal_structure/StatGeochem.jl/src/resources/Elevation.jl:3\n",
      "┌ Warning: The call to compilecache failed to create a usable precompiled cache file for StatGeochem [df4de05a-b714-11e8-3c2a-c30fb13e804c]\n",
      "│   exception = ErrorException(\"Required dependency SpecialFunctions [276daf66-3868-5448-9aa4-cd146d93841b] failed to load from a cache file.\")\n",
      "└ @ Base loading.jl:1025\n",
      "┌ Info: Recompiling stale cache file /Users/gailin/.julia/compiled/v1.2/SpecialFunctions/78gOt.ji for SpecialFunctions [276daf66-3868-5448-9aa4-cd146d93841b]\n",
      "└ @ Base loading.jl:1240\n",
      "┌ Warning: Package SpecialFunctions does not have Libdl in its dependencies:\n",
      "│ - If you have SpecialFunctions checked out for development and have\n",
      "│   added Libdl as a dependency but haven't updated your primary\n",
      "│   environment's manifest file, try `Pkg.resolve()`.\n",
      "│ - Otherwise you may need to report an issue with SpecialFunctions\n",
      "└ Loading Libdl into SpecialFunctions from project dependency, future warnings for SpecialFunctions are suppressed.\n",
      "WARNING: Colors.RGB4 is deprecated, use RGBX instead.\n",
      "  likely near /Users/gailin/dartmouth/crustal_structure/StatGeochem.jl/src/StatGeochem.jl:41\n",
      "WARNING: importing deprecated binding Colors.RGB4 into StatGeochem.\n",
      "WARNING: Colors.RGB4 is deprecated, use RGBX instead.\n",
      "  likely near /Users/gailin/dartmouth/crustal_structure/StatGeochem.jl/src/resources/Elevation.jl:3\n",
      "WARNING: Colors.RGB4 is deprecated, use RGBX instead.\n",
      "  likely near /Users/gailin/dartmouth/crustal_structure/StatGeochem.jl/src/resources/Elevation.jl:3\n"
     ]
    }
   ],
   "source": [
    "try\n",
    "    using StatGeochem\n",
    "catch\n",
    "    println(\"StatGeochem not installed; installing...\")\n",
    "    using Pkg\n",
    "    Pkg.add(PackageSpec(url=\"https://github.com/brenhinkeller/StatGeochem.jl\"))\n",
    "    using StatGeochem\n",
    "end\n",
    "\n",
    "using Plots"
   ]
  },
  {
   "cell_type": "code",
   "execution_count": 2,
   "metadata": {},
   "outputs": [
    {
     "name": "stdout",
     "output_type": "stream",
     "text": [
      "Perplex already installed\n"
     ]
    }
   ],
   "source": [
    "## --- Configure\n",
    "\n",
    "# Absolute paths to perplex resources\n",
    "perplexdir = joinpath(resourcepath,\"perplex-stable\")\n",
    "scratchdir = \"./scratch/\" # Location of directory to store output files\n",
    "\n",
    "# Attempt to install perplex, if not already extant\n",
    "if !isfile(joinpath(perplexdir,\"vertex\"))\n",
    "    # Make sure resourcepath exists\n",
    "    run(`mkdir -p $resourcepath`)\n",
    "\n",
    "    # Try to compile PerpleX from source; if that fails, try to download linux binaries\n",
    "    try\n",
    "        # Check if there is a fortran compiler\n",
    "        run(`gfortran -v`)\n",
    "\n",
    "        # Download Perplex v6.8.7 -- known to work with interface used here\n",
    "        file = download(\"https://storage.googleapis.com/statgeochem/perplex-6.8.7-source.zip\", \n",
    "            joinpath(resourcepath,\"perplex-stable.zip\"))\n",
    "\n",
    "        # # For a more updated perplex version, you might also try\n",
    "        # file = download(\"https://petrol.natur.cuni.cz/~ondro/perplex-sources-stable.zip\", \n",
    "        #       joinpath(resourcepath,\"perplex-stable.zip\"))\n",
    "\n",
    "        run(`unzip -u $file -d $resourcepath`) # Extract\n",
    "        system(\"cd $perplexdir; make\") # Compile\n",
    "    catch\n",
    "        @warn \"Failed to compile from source, trying precompiled linux binaries instead\"\n",
    "        run(`mkdir -p $perplexdir`)\n",
    "        file = download(\"https://petrol.natur.cuni.cz/~ondro/Perple_X_6.8.7_Linux_64_gfortran.tar.gz\",\n",
    "            \"perplex-6.8.7-linux.tar.gz\")\n",
    "        run(`tar -xzf $file -C $perplexdir`)\n",
    "    end\n",
    "else \n",
    "    println(\"Perplex already installed\")\n",
    "end"
   ]
  },
  {
   "cell_type": "markdown",
   "metadata": {},
   "source": [
    "# Lab"
   ]
  },
  {
   "cell_type": "code",
   "execution_count": 3,
   "metadata": {},
   "outputs": [],
   "source": [
    "## Configuration for perple_x \n",
    "\n",
    "# Which phases to consider for thermodynamic calculation? \n",
    "solution_phases = \"O(HP)\\nOpx(HP)\\nOmph(GHP)\\nGt(HP)\\noAmph(DP)\"*\n",
    "    \"\\nGlTrTsPg\\nT\\nB\\nAnth\\nChl(HP)\\nBio(TCC)\\nMica(CF)\\nCtd(HP)\"*\n",
    "    \"\\nIlHm(A)\\nSp(HP)\\nSapp(HP)\\nSt(HP)\\nfeldspar\\nDo(HP)\\nF\\n\";\n",
    "\n",
    "excludes = \"\";\n",
    "\n",
    "# TODO real granite average \n",
    "granite = [74.14,0.25,14.9,2.1146,0.5,4.8,3.15,0.08,1.8386,0.4407];\n",
    "granite2 = [66.48,0.48,15.38,3.6442,2.33,3.11,3.49,3.89,1.8386,0.4407];\n",
    "\n",
    "## QUESTION FOR STUDENTS: What changes when we consider some actual granites? \n"
   ]
  },
  {
   "cell_type": "code",
   "execution_count": 4,
   "metadata": {},
   "outputs": [
    {
     "data": {
      "text/plain": [
       "0"
      ]
     },
     "execution_count": 4,
     "metadata": {},
     "output_type": "execute_result"
    }
   ],
   "source": [
    "perplex_configure_pseudosection(perplexdir, scratchdir, granite, xnodes=10, ynodes=10, dataset=\"hpha02ver.dat\")"
   ]
  },
  {
   "cell_type": "code",
   "execution_count": null,
   "metadata": {},
   "outputs": [],
   "source": [
    "ans = perplex_query_system(perplexdir, scratchdir)"
   ]
  },
  {
   "cell_type": "code",
   "execution_count": null,
   "metadata": {},
   "outputs": [],
   "source": []
  }
 ],
 "metadata": {
  "kernelspec": {
   "display_name": "Julia 1.4.0",
   "language": "julia",
   "name": "julia-1.4"
  },
  "language_info": {
   "file_extension": ".jl",
   "mimetype": "application/julia",
   "name": "julia",
   "version": "1.4.1"
  }
 },
 "nbformat": 4,
 "nbformat_minor": 2
}
